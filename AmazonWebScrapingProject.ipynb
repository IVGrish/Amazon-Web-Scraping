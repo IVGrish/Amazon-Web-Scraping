{
 "cells": [
  {
   "cell_type": "markdown",
   "metadata": {},
   "source": [
    "Amazon Web Scraper Project"
   ]
  },
  {
   "cell_type": "code",
   "execution_count": 1,
   "metadata": {},
   "outputs": [],
   "source": [
    "# import libraries\n",
    "\n",
    "from bs4 import BeautifulSoup\n",
    "import requests\n",
    "import time\n",
    "import datetime\n",
    "import csv\n",
    "import smtplib\n",
    "from dotenv import load_dotenv\n",
    "import os\n",
    "import pandas as pd"
   ]
  },
  {
   "cell_type": "code",
   "execution_count": 26,
   "metadata": {},
   "outputs": [],
   "source": [
    "# connect to website\n",
    "# beware of errors due to reconnecting the site\n",
    "\n",
    "url = 'https://www.amazon.com/Funny-Data-Systems-Business-Analyst/dp/B07FNW9FGJ/ref=sr_1_3?dchild=1&keywords=data%2Banalyst%2Btshirt&qid=1626655184&sr=8-3&customId=B0752XJYNL&th=1&customizationToken=MC_Assembly_1%23B0752XJYNL'\n",
    "\n",
    "headers = {\"User-Agent\": \"Mozilla/5.0 (Windows NT 10.0; Win64; x64) AppleWebKit/537.36 (KHTML, like Gecko) Chrome/131.0.0.0 Safari/537.36 Edg/131.0.0.0\", \"Accept-Encoding\":\"gzip, deflate\", \"Accept\":\"text/html,application/xhtml+xml,application/xml;q=0.9,*/*;q=0.8\", \"DNT\":\"1\",\"Connection\":\"close\", \"Upgrade-Insecure-Requests\":\"1\"}\n"
   ]
  },
  {
   "cell_type": "code",
   "execution_count": null,
   "metadata": {},
   "outputs": [],
   "source": [
    "# declaration of variables from the site\n",
    "\n",
    "page = requests.get(url, headers=headers)\n",
    "\n",
    "soup1 = BeautifulSoup(page.content, 'html.parser')\n",
    "\n",
    "soup2 = BeautifulSoup(soup1.prettify(), 'html.parser')\n",
    "\n",
    "title = soup2.find(id='productTitle').get_text(strip=True)\n",
    "\n",
    "delivering_to = soup2.find(id=\"glow-ingress-line1\").get_text(strip=True)\n",
    "price_symbol = soup2.find(class_='a-price-symbol').get_text(strip=True)\n",
    "price_whole = soup2.find(class_='a-price-whole').get_text(strip=True)\n",
    "price_fraction = soup2.find(class_='a-price-fraction').get_text(strip=True)\n",
    "price = f'{price_symbol}{price_whole}{price_fraction}'\n",
    "price = price.strip()[1:]\n",
    "\n",
    "print(delivering_to)\n",
    "print(title)\n",
    "print(price)"
   ]
  },
  {
   "cell_type": "code",
   "execution_count": 59,
   "metadata": {},
   "outputs": [
    {
     "name": "stdout",
     "output_type": "stream",
     "text": [
      "2024-12-22\n"
     ]
    }
   ],
   "source": [
    "# work with date and time\n",
    "\n",
    "today = datetime.date.today()\n",
    "\n",
    "print(today)"
   ]
  },
  {
   "cell_type": "code",
   "execution_count": 60,
   "metadata": {},
   "outputs": [],
   "source": [
    "# work with csv\n",
    "\n",
    "header_csv = ['Title', 'Price', 'Date']\n",
    "data_csv = [title, price, today]\n",
    "\n",
    "#with open(r'D:\\Data Analytics\\Python Projects\\Amazon Web Scraping Project\\AmazonWebScrapingDataset.csv', 'w', newline='', encoding='UTF8') as f:\n",
    "#    writer = csv.writer(f)\n",
    "#    writer.writerow(header_csv)\n",
    "#    writer.writerow(data_csv)"
   ]
  },
  {
   "cell_type": "code",
   "execution_count": null,
   "metadata": {},
   "outputs": [],
   "source": [
    "# Loading from .env\n",
    "load_dotenv()\n",
    "\n",
    "EMAIL_USER = os.getenv(\"EMAIL_USER\")\n",
    "EMAIL_PASS = os.getenv(\"EMAIL_PASS\")\n",
    "EMAIL_RECEIVER = os.getenv(\"EMAIL_RECEIVER\")\n",
    "\n",
    "def send_mail():\n",
    "    server = smtplib.SMTP_SSL('smtp.gmail.com', 465)\n",
    "    server.ehlo()\n",
    "    #server.starttls()\n",
    "    server.ehlo()\n",
    "    server.login(EMAIL_USER, EMAIL_PASS)\n",
    "\n",
    "    subject = \"The Shirt you want is below $16! Now is your chance to buy!\"\n",
    "    body = \"Ivan, This is the moment we have been waiting for. Now is your chance to pick up the shirt of your dreams. Don't mess it up! Link here: https://www.amazon.com/Funny-Data-Systems-Business-Analyst/dp/B07FNW9FGJ/ref=sr_1_3?dchild=1&keywords=data%2Banalyst%2Btshirt&qid=1626655184&sr=8-3&customId=B0752XJYNL&th=1&customizationToken=MC_Assembly_1%23B0752XJYNL\"\n",
    "\n",
    "    msg = f\"Subject: {subject}\\n\\n{body}\"\n",
    "\n",
    "    server.sendmail(EMAIL_USER, EMAIL_RECEIVER, msg)\n",
    "    server.quit()"
   ]
  },
  {
   "cell_type": "code",
   "execution_count": 43,
   "metadata": {},
   "outputs": [],
   "source": [
    "# add a function\n",
    "\n",
    "def check_price():\n",
    "    url = 'https://www.amazon.com/Funny-Data-Systems-Business-Analyst/dp/B07FNW9FGJ/ref=sr_1_3?dchild=1&keywords=data%2Banalyst%2Btshirt&qid=1626655184&sr=8-3&customId=B0752XJYNL&th=1&customizationToken=MC_Assembly_1%23B0752XJYNL'\n",
    "\n",
    "    headers = {\"User-Agent\": \"Mozilla/5.0 (Windows NT 10.0; Win64; x64) AppleWebKit/537.36 (KHTML, like Gecko) Chrome/131.0.0.0 Safari/537.36 Edg/131.0.0.0\", \"Accept-Encoding\":\"gzip, deflate\", \"Accept\":\"text/html,application/xhtml+xml,application/xml;q=0.9,*/*;q=0.8\", \"DNT\":\"1\",\"Connection\":\"close\", \"Upgrade-Insecure-Requests\":\"1\"}\n",
    "\n",
    "    page = requests.get(url, headers=headers)\n",
    "\n",
    "    soup1 = BeautifulSoup(page.content, 'html.parser')\n",
    "\n",
    "    soup2 = BeautifulSoup(soup1.prettify(), 'html.parser')\n",
    "\n",
    "    title = soup2.find(id='productTitle').get_text(strip=True)\n",
    "\n",
    "    price_symbol = soup2.find(class_='a-price-symbol').get_text(strip=True)\n",
    "    price_whole = soup2.find(class_='a-price-whole').get_text(strip=True)\n",
    "    price_fraction = soup2.find(class_='a-price-fraction').get_text(strip=True)\n",
    "    price = f'{price_symbol}{price_whole}{price_fraction}'\n",
    "    price = price.strip()[1:]\n",
    "\n",
    "    today = datetime.date.today()\n",
    "    \n",
    "    data_csv = [title, price, today]\n",
    "\n",
    "    with open(r'D:\\Data Analytics\\Python Projects\\Amazon Web Scraping Project\\AmazonWebScrapingDataset.csv', 'a+', newline='', encoding='UTF8') as f:\n",
    "        writer = csv.writer(f)\n",
    "        writer.writerow(data_csv)\n",
    "\n",
    "    if float(price) < 16:\n",
    "        send_mail()"
   ]
  },
  {
   "cell_type": "code",
   "execution_count": null,
   "metadata": {},
   "outputs": [
    {
     "ename": "KeyboardInterrupt",
     "evalue": "",
     "output_type": "error",
     "traceback": [
      "\u001b[1;31m---------------------------------------------------------------------------\u001b[0m",
      "\u001b[1;31mKeyboardInterrupt\u001b[0m                         Traceback (most recent call last)",
      "Cell \u001b[1;32mIn[49], line 3\u001b[0m\n\u001b[0;32m      1\u001b[0m \u001b[38;5;28;01mwhile\u001b[39;00m(\u001b[38;5;28;01mTrue\u001b[39;00m):\n\u001b[0;32m      2\u001b[0m     check_price()\n\u001b[1;32m----> 3\u001b[0m     \u001b[43mtime\u001b[49m\u001b[38;5;241;43m.\u001b[39;49m\u001b[43msleep\u001b[49m\u001b[43m(\u001b[49m\u001b[38;5;241;43m5\u001b[39;49m\u001b[43m)\u001b[49m\n",
      "\u001b[1;31mKeyboardInterrupt\u001b[0m: "
     ]
    }
   ],
   "source": [
    "# loop for check price\n",
    "while(True):\n",
    "    check_price()\n",
    "    time.sleep(5)"
   ]
  },
  {
   "cell_type": "code",
   "execution_count": 51,
   "metadata": {},
   "outputs": [
    {
     "name": "stdout",
     "output_type": "stream",
     "text": [
      "                                           Title  Price        Date\n",
      "0   Got Data Funny Business Data Analyst T-Shirt  15.99  2024-12-22\n",
      "1   Got Data Funny Business Data Analyst T-Shirt  15.99  2024-12-22\n",
      "2   Got Data Funny Business Data Analyst T-Shirt  15.99  2024-12-22\n",
      "3   Got Data Funny Business Data Analyst T-Shirt  15.99  2024-12-22\n",
      "4   Got Data Funny Business Data Analyst T-Shirt  15.99  2024-12-22\n",
      "5   Got Data Funny Business Data Analyst T-Shirt  22.99  2024-12-22\n",
      "6   Got Data Funny Business Data Analyst T-Shirt  22.99  2024-12-22\n",
      "7   Got Data Funny Business Data Analyst T-Shirt  22.99  2024-12-22\n",
      "8   Got Data Funny Business Data Analyst T-Shirt  22.99  2024-12-22\n",
      "9   Got Data Funny Business Data Analyst T-Shirt  22.99  2024-12-22\n",
      "10  Got Data Funny Business Data Analyst T-Shirt  15.99  2024-12-22\n",
      "11  Got Data Funny Business Data Analyst T-Shirt  22.99  2024-12-22\n",
      "12  Got Data Funny Business Data Analyst T-Shirt  22.99  2024-12-22\n",
      "13  Got Data Funny Business Data Analyst T-Shirt  22.99  2024-12-22\n",
      "14  Got Data Funny Business Data Analyst T-Shirt  22.99  2024-12-22\n",
      "15  Got Data Funny Business Data Analyst T-Shirt  15.99  2024-12-22\n",
      "16  Got Data Funny Business Data Analyst T-Shirt  22.99  2024-12-22\n",
      "17  Got Data Funny Business Data Analyst T-Shirt  15.99  2024-12-22\n",
      "18  Got Data Funny Business Data Analyst T-Shirt  15.99  2024-12-22\n",
      "19  Got Data Funny Business Data Analyst T-Shirt  15.99  2024-12-22\n",
      "20  Got Data Funny Business Data Analyst T-Shirt  15.99  2024-12-22\n",
      "21  Got Data Funny Business Data Analyst T-Shirt  15.99  2024-12-22\n"
     ]
    }
   ],
   "source": [
    "# work with pandas\n",
    "\n",
    "df = pd.read_csv(r'D:\\Data Analytics\\Python Projects\\Amazon Web Scraping Project\\AmazonWebScrapingDataset.csv')\n",
    "\n",
    "print(df)"
   ]
  }
 ],
 "metadata": {
  "kernelspec": {
   "display_name": "Python 3",
   "language": "python",
   "name": "python3"
  },
  "language_info": {
   "codemirror_mode": {
    "name": "ipython",
    "version": 3
   },
   "file_extension": ".py",
   "mimetype": "text/x-python",
   "name": "python",
   "nbconvert_exporter": "python",
   "pygments_lexer": "ipython3",
   "version": "3.12.10"
  }
 },
 "nbformat": 4,
 "nbformat_minor": 2
}
